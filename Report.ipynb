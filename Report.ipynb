{
 "cells": [
  {
   "cell_type": "markdown",
   "metadata": {
    "collapsed": false
   },
   "source": [
    "# Exploring the neighborhoods of Yekaterinburg\n",
    "## Best places to open a pub in 2019"
   ]
  },
  {
   "cell_type": "markdown",
   "metadata": {
    "collapsed": false
   },
   "source": [
    "### Introduction"
   ]
  },
  {
   "cell_type": "markdown",
   "metadata": {
    "collapsed": false
   },
   "source": [
    "The most difficult step in opening a new small business like pub is choosing a place for your venue. There are a lot of different factors you should be mindful of - the amount of people passing the place during the day, how many similar venues are already there, whether they are popular or not and so on. It is a quite difficult task for a business owner.  \n",
    "Luckily in our days there are a lot of sources of information that you can use in your favor. By using those sources it is possible to outline the characteristics of different neigborhoods and make your decision.  \n",
    "In this work I hope to explore the neigborhoods of **Yekaterinburg, Russia** and find out what is the best place to open a successful bar. I hope this work will help those that are in need of such information to make the final decision."
   ]
  },
  {
   "cell_type": "markdown",
   "metadata": {
    "collapsed": false
   },
   "source": [
    "### Data"
   ]
  },
  {
   "cell_type": "markdown",
   "metadata": {
    "collapsed": false
   },
   "source": [
    "First of all, I'll to outline different neighborhoods. Unfortunately the city itself does not have such a concept and the 'city districts' are too big to use for clusterisation.  \n",
    "So as an alternative way to do this it is possible to split the city using ZIP codes. There is no existing databases that are comfortable to use and free at the same time so we will need another source. <a href=\"https://postal-codes.cybo.com/russia/yekaterinburg/\">Cybo.com</a> provides a list of codes with latitude and longitude for each one. Using web scraping we can gather all the required information.  "
   ]
  },
  {
   "cell_type": "markdown",
   "metadata": {
    "collapsed": false
   },
   "source": [
    "<img src=\"img/Cybo.PNG\" width=\"600\">"
   ]
  },
  {
   "cell_type": "markdown",
   "metadata": {
    "collapsed": false
   },
   "source": [
    "Now the decision factor. The best place should have a lot of people passing during a day (universities or work centres nearby would be a huge plus). The lack of other pubs and fastfoods also would be good. Though the lack of different entertainment centres in around is not that good. All this information we can gather using the foursquare API. Getting all the info on the aforecited venues will allow us to use the clusterization and later find the best group of neigborhoods."
   ]
  }
 ],
 "metadata": {
  "kernelspec": {
   "display_name": "Python 3 (Anaconda 5)",
   "env": {
    "LD_LIBRARY_PATH": "/ext/anaconda5/lib",
    "PYTHONHOME": "/ext/anaconda5/lib/python3.5",
    "PYTHONPATH": "/ext/anaconda5/lib/python3.5:/ext/anaconda5/lib/python3.5/site-packages"
   },
   "language": "python",
   "metadata": {
    "cocalc": {
     "description": "Python/R distribution for data science",
     "priority": 5,
     "url": "https://www.anaconda.com/distribution/"
    }
   },
   "name": "anaconda5"
  },
  "language_info": {
   "codemirror_mode": {
    "name": "ipython",
    "version": 3
   },
   "file_extension": ".py",
   "mimetype": "text/x-python",
   "name": "python",
   "nbconvert_exporter": "python",
   "pygments_lexer": "ipython3",
   "version": "3.6.7"
  }
 },
 "nbformat": 4,
 "nbformat_minor": 0
}